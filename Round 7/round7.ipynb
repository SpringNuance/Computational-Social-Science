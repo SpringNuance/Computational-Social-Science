{
 "cells": [
  {
   "cell_type": "code",
   "execution_count": 8,
   "metadata": {},
   "outputs": [
    {
     "name": "stdout",
     "output_type": "stream",
     "text": [
      "         user1_ID  user2_ID        date   time\n",
      "0           61708     48191  2022-04-01  00:00\n",
      "1           28258     26395  2022-04-01  00:00\n",
      "2           58124     56191  2022-04-01  00:00\n",
      "3           82008     40450  2022-04-01  00:00\n",
      "4           66478     22691  2022-04-01  00:00\n",
      "...           ...       ...         ...    ...\n",
      "1422662     17349     36173  2022-05-10  23:59\n",
      "1422663       928     35717  2022-05-10  23:59\n",
      "1422664     24850     71316  2022-05-10  23:59\n",
      "1422665     96169     64780  2022-05-10  23:59\n",
      "1422666     34938     58441  2022-05-10  23:59\n",
      "\n",
      "[1422667 rows x 4 columns]\n",
      "   user1_ID  user2_ID        date   time          datetime\n",
      "0     61708     48191  2022-04-01  00:00  2022-04-01 00:00\n",
      "1     28258     26395  2022-04-01  00:00  2022-04-01 00:00\n",
      "2     58124     56191  2022-04-01  00:00  2022-04-01 00:00\n",
      "3     82008     40450  2022-04-01  00:00  2022-04-01 00:00\n",
      "4     66478     22691  2022-04-01  00:00  2022-04-01 00:00\n"
     ]
    }
   ],
   "source": [
    "import pandas as pd\n",
    "\n",
    "# read the file\n",
    "df = pd.read_csv('cdr-2022-04-01-to-2022-05-11.txt', header=None, delimiter=' ')\n",
    "\n",
    "\n",
    "# rename the columns\n",
    "df.columns = ['user1_ID', 'user2_ID', 'date', 'time']\n",
    "\n",
    "# print(df)\n",
    "\n",
    "# combine date and time columns into a single datetime object\n",
    "df['datetime'] = df['date'] + ' ' + df['time']\n",
    "# df['datetime'] = pd.to_datetime(df['datetime'], format='%Y-%m-%d %H:%M:%S')\n",
    "\n",
    "# drop the date and time columns\n",
    "# df = df.drop(['date', 'time'], axis=1)\n",
    "\n",
    "# display the first few rows\n",
    "print(df.head())\n"
   ]
  },
  {
   "cell_type": "code",
   "execution_count": 16,
   "metadata": {},
   "outputs": [
    {
     "name": "stdout",
     "output_type": "stream",
     "text": [
      "My ID is: 68819\n"
     ]
    }
   ],
   "source": [
    "# filter the dataframe to find rows matching our three calls\n",
    "calls_made = df[df['datetime'].isin(['2022-05-01 09:14', '2022-04-16 10:20', '2022-04-21 11:43'])]\n",
    "\n",
    "# get the unique user IDs from the calls_made dataframe\n",
    "user_ids = calls_made['user1_ID'].unique()\n",
    "\n",
    "my_ID = None\n",
    "# assuming we only made calls to one person each, our ID is the one that appears three times\n",
    "for user_id in user_ids:\n",
    "    if (calls_made['user1_ID'] == user_id).sum() == 3:\n",
    "        print(\"My ID is:\", user_id)\n",
    "        my_ID = user_id\n"
   ]
  },
  {
   "cell_type": "code",
   "execution_count": 19,
   "metadata": {},
   "outputs": [
    {
     "name": "stdout",
     "output_type": "stream",
     "text": [
      "Alice's ID is: 59715\n",
      "Bob's ID is: 60644\n",
      "Carol's ID is: 20924\n"
     ]
    }
   ],
   "source": [
    "# call to Alice \n",
    "call_Alice = df.loc[(df['datetime'] == '2022-05-01 09:14') & (df['user1_ID'] == my_ID)]\n",
    "Alice_ID = call_Alice['user2_ID'].values[0]\n",
    "print(\"Alice's ID is:\", Alice_ID)\n",
    "\n",
    "# call to Bob\n",
    "call_Bob = df.loc[(df['datetime'] == '2022-04-16 10:20') & (df['user1_ID'] == my_ID)]\n",
    "Bob_ID = call_Bob['user2_ID'].values[0]\n",
    "print(\"Bob's ID is:\", Bob_ID)\n",
    "\n",
    "# call to Carol\n",
    "call_Carol = df.loc[(df['datetime'] == '2022-04-21 11:43') & (df['user1_ID'] == my_ID)]\n",
    "Carol_ID = call_Carol['user2_ID'].values[0]\n",
    "print(\"Carol's ID is:\", Carol_ID)"
   ]
  },
  {
   "cell_type": "code",
   "execution_count": 20,
   "metadata": {},
   "outputs": [
    {
     "name": "stdout",
     "output_type": "stream",
     "text": [
      "Alice has called: [40937 35972 27064  9466 69044 60644]\n"
     ]
    }
   ],
   "source": [
    "# Who has Alice been calling, Bob or Carol?\n",
    "# Alice has only made one call, so we can just check the user2_ID\n",
    "call_Alice = df.loc[(df['user1_ID'] == Alice_ID)]\n",
    "Alice_calls = call_Alice['user2_ID'].unique()\n",
    "print(\"Alice has called:\", Alice_calls)\n",
    "\n",
    "# Bob is in the list of Alice's calls, so Alice has been calling Bob"
   ]
  },
  {
   "cell_type": "code",
   "execution_count": 23,
   "metadata": {},
   "outputs": [
    {
     "name": "stdout",
     "output_type": "stream",
     "text": [
      "         user1_ID  user2_ID        date   time          datetime\n",
      "1073138     59715     60644  2022-05-01  03:45  2022-05-01 03:45\n",
      "1081336     59715     60644  2022-05-01  09:16  2022-05-01 09:16\n",
      "1105049     59715     60644  2022-05-02  01:25  2022-05-02 01:25\n",
      "1139425     59715     60644  2022-05-03  00:42  2022-05-03 00:42\n",
      "1319137     59715     60644  2022-05-08  02:12  2022-05-08 02:12\n",
      "1352604     59715     60644  2022-05-09  00:40  2022-05-09 00:40\n",
      "The first call that Alice made to Bob was: 2022-05-01 03:45\n"
     ]
    }
   ],
   "source": [
    "# When was the first call that Alice made to Bob or Carol? \n",
    "# Use the timestamp format from the CDR file: yyyy-mm-dd HH:MM\n",
    "\n",
    "# get the first call that Alice made to Bob\n",
    "call_Alice_to_Bob = df.loc[(df['user1_ID'] == Alice_ID) & (df['user2_ID'] == Bob_ID)]\n",
    "# get the datetime of the first call\n",
    "\n",
    "print(call_Alice_to_Bob)\n",
    "first_call = call_Alice_to_Bob['datetime'].values[0]\n",
    "print(\"The first call that Alice made to Bob was:\", first_call)"
   ]
  },
  {
   "cell_type": "code",
   "execution_count": 24,
   "metadata": {},
   "outputs": [
    {
     "name": "stdout",
     "output_type": "stream",
     "text": [
      "The number of calls between Alice and Bob is: 6\n",
      "The number of calls between Alice and Carol is: 0\n",
      "The total number of calls between Alice and Bob or Carol is: 6\n"
     ]
    }
   ],
   "source": [
    "# How many calls were there in total between Alice and Bob or Carol?\n",
    "# get the number of calls between Alice and Bob\n",
    "num_calls = len(call_Alice_to_Bob)\n",
    "print(\"The number of calls between Alice and Bob is:\", num_calls)\n",
    "# get the number of calls between Alice and Carol\n",
    "call_Alice_to_Carol = df.loc[(df['user1_ID'] == Alice_ID) & (df['user2_ID'] == Carol_ID)]\n",
    "num_calls = len(call_Alice_to_Carol)\n",
    "print(\"The number of calls between Alice and Carol is:\", num_calls)\n",
    "# get the total number of calls between Alice and Bob or Carol\n",
    "num_calls = len(call_Alice_to_Bob) + len(call_Alice_to_Carol)\n",
    "print(\"The total number of calls between Alice and Bob or Carol is:\", num_calls)"
   ]
  }
 ],
 "metadata": {
  "kernelspec": {
   "display_name": "Python 3",
   "language": "python",
   "name": "python3"
  },
  "language_info": {
   "codemirror_mode": {
    "name": "ipython",
    "version": 3
   },
   "file_extension": ".py",
   "mimetype": "text/x-python",
   "name": "python",
   "nbconvert_exporter": "python",
   "pygments_lexer": "ipython3",
   "version": "3.10.5"
  },
  "orig_nbformat": 4
 },
 "nbformat": 4,
 "nbformat_minor": 2
}
