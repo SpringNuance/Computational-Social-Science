{
 "cells": [
  {
   "cell_type": "markdown",
   "id": "381d643a",
   "metadata": {},
   "source": [
    "<span style=\"font-family:Helvetica; color:gray\">These exercise materials provided to you as a student of Aalto University are protected by copyright. You are authorized to use these materials for your personal educational purposes, including completing the exercises and submitting them for grading. You are prohibited from reproducing, distributing, displaying, or sharing any portion of these materials in any form, including, but not limited to, posting on the internet or other forms of electronic communication. Aalto University reserves all rights in the exercise materials.</span>\n"
   ]
  },
  {
   "cell_type": "markdown",
   "id": "184f49ef",
   "metadata": {
    "id": "23194be8-9a00-4b7e-a898-09cf5eef0ba8"
   },
   "source": [
    "## Exercise 3: Big Data"
   ]
  },
  {
   "cell_type": "markdown",
   "id": "affea566",
   "metadata": {},
   "source": [
    "In this exercise, you will develop a more concrete understanding of the characteristics of big data outlined in Section 2.3 of [*Bit By Bit: Social Research in the Digital Age*](https://www.bitbybitbook.com/en/1st-ed/observing-behavior/characteristics/), as you explore a **synthetic climate discussion data set** we provide for you. The idea is for you to get a feel of how to go about studying people's behavior on social media, as you learn to think about the merits and caveats of using digital trace data for research.\n",
    "\n",
    "To get points from this exercise, you need to answer ten questions on A+. Some of them are just multiple-choice questions; for the others, you need to extract information from the data set, following the instructions given in this notebook. **Your implementation in this notebook will not be assessed; you only need to complete the implementation in order to answer the questions on A+.**"
   ]
  },
  {
   "cell_type": "code",
   "execution_count": 1,
   "id": "0d622ec9",
   "metadata": {
    "id": "e1ccb094-a5ec-4e9f-91ec-97795965d6d4"
   },
   "outputs": [
    {
     "name": "stderr",
     "output_type": "stream",
     "text": [
      "Fontconfig error: Cannot load default config file: No such file: (null)\n"
     ]
    }
   ],
   "source": [
    "import json\n",
    "from datetime import datetime, timedelta\n",
    "from collections import Counter\n",
    "\n",
    "import numpy as np\n",
    "import pandas as pd\n",
    "import matplotlib.pyplot as plt\n",
    "import matplotlib\n",
    "matplotlib.rcParams.update({'font.size': 13.5})"
   ]
  },
  {
   "cell_type": "markdown",
   "id": "e90d19f9",
   "metadata": {},
   "source": [
    "The following code should read the data from the `dataset.jsonl` file into the `data` variable and the user information from `userinfo.jsonl` to `users` variable, if you have downloaded it from A+ and uploaded it to the directory that contains this notebook. \n",
    "\n",
    "The data will be accessible as a list of JSON objects, where each JSON object stores the information of a single original post. We here show an example for fetching post from one of the JSON objects. "
   ]
  },
  {
   "cell_type": "code",
   "execution_count": 2,
   "id": "e407be68",
   "metadata": {
    "colab": {
     "base_uri": "https://localhost:8080/"
    },
    "id": "71740202-2ada-440f-b854-601166b96add",
    "outputId": "85babd9a-ec53-4c21-8b9f-c55bb98a5424"
   },
   "outputs": [
    {
     "name": "stdout",
     "output_type": "stream",
     "text": [
      "User ID: 3561110752093283767\n",
      "Post timestamp: 2024-03-04T20:34:09.000Z\n",
      "Post text: the disarming case to act right now on climate change | greta thunberg <url>\n"
     ]
    }
   ],
   "source": [
    "data = []\n",
    "users = []\n",
    "\n",
    "# Read data from file into a list of JSON objects\n",
    "with open(\"dataset.jsonl\") as fdata:\n",
    "    for line in fdata:\n",
    "        data.append(json.loads(line))\n",
    "\n",
    "# Read user from file into a list of JSON objects\n",
    "with open(\"userinfo.jsonl\") as fdata:\n",
    "    for line in fdata:\n",
    "        users.append(json.loads(line))\n",
    "\n",
    "# Print out the User ID, timestamp, and text of a post.\n",
    "idx = 50\n",
    "print('User ID: %d' % data[idx]['user_id'])\n",
    "print('Post timestamp: %s' % data[idx]['date'])\n",
    "print('Post text: %s' % data[idx]['text'])"
   ]
  },
  {
   "cell_type": "markdown",
   "id": "090257d3",
   "metadata": {
    "id": "a9c4b5ff-7d25-4e02-9501-3da10afd7b7e"
   },
   "source": [
    "### Ten Characteristics of Big Data\n",
    "#### Big \n",
    "- **Calculate the time span of the data set (in days).**  \n",
    "(Hint: For this exercise and the remaining ones, it's best to convert the post timestamps to `datetime` objects, using the [`strptime`](https://www.programiz.com/python-programming/datetime/strptime) method with format string `'%Y-%m-%dT%H:%M:%S.000Z'`. You can then manipulate the `datetime` objects directly using `min()`, `max()`, and the `-` operator. Use `obj.total_seconds()` to convert a `datetime` object into seconds.)\n",
    "- **Calculate the total number of post records in the data set.**\n",
    "- **Answer question 3.2.1 on A+.**"
   ]
  },
  {
   "cell_type": "code",
   "execution_count": 43,
   "id": "9ff9886d",
   "metadata": {
    "colab": {
     "base_uri": "https://localhost:8080/"
    },
    "id": "056d02f8-d1ca-4b84-b23a-15030793e7b6",
    "outputId": "5df786da-312c-4c21-d3a5-059b34492067"
   },
   "outputs": [
    {
     "name": "stdout",
     "output_type": "stream",
     "text": [
      "[{'user_id': 18224287041377074931, 'date': datetime.datetime(2024, 3, 1, 5, 22, 51), 'text': '@USER @USER @USER the fact that you think climate change is an actual emergency is a disgrace. #climatestrike #climatechangeisreal', 'id_orig': 18224287041377074931, 'repost': False}, {'user_id': 18224287041377074931, 'date': datetime.datetime(2024, 3, 1, 16, 20, 32), 'text': \"@USER @USER @USER the only way to stop the climate change emergency is to take the money from all the rich. that's what a green new deal will do. it's the best way to tackle the climate emergency.\", 'id_orig': 18224287041377074931, 'repost': False}, {'user_id': 18224287041377074931, 'date': datetime.datetime(2024, 3, 1, 19, 3, 59), 'text': \"@USER @USER @USER @USER the fact that you are so concerned about global warming is so pathetic. i can't believe you actually think you can change the climate. #climatecrisis\", 'id_orig': 18224287041377074931, 'repost': False}, {'user_id': 18224287041377074931, 'date': datetime.datetime(2024, 3, 1, 20, 8, 51), 'text': '.@repraulgrijalva says the climate has always been changing and ignores the fact that climate change is an urgent threat to everyone. we need leaders to act or <url> <url> #climatescience #climatecrisis #climatechangeisreal', 'id_orig': 18224287041377074931, 'repost': False}, {'user_id': 18224287041377074931, 'date': datetime.datetime(2024, 3, 1, 22, 14, 43), 'text': '@USER @USER you are the worst. i’m sure the next democrat president will declare a national emergency for climate change, health care, gun control, and other issues. #climatescience', 'id_orig': 18224287041377074931, 'repost': False}]\n",
      "[{'gender': 'female', 'age': 46, 'bio': None, 'location': 'San Diego', 'id': 18224287041377074931}, {'gender': 'male', 'age': 21, 'bio': None, 'location': 'Humboldt', 'id': 3561110752093283767}]\n"
     ]
    }
   ],
   "source": [
    "import copy\n",
    "# Your code here.\n",
    "dataNew = copy.deepcopy(data)\n",
    "\n",
    "for dataPoint in dataNew:\n",
    "    dataPoint['date'] = datetime.strptime(dataPoint['date'], '%Y-%m-%dT%H:%M:%S.000Z')\n",
    "\n",
    "onlyDates = [dataPoint['date'] for dataPoint in dataNew]\n",
    "\n",
    "print(dataNew[0:5])\n",
    "print(users[0:2])"
   ]
  },
  {
   "cell_type": "code",
   "execution_count": 66,
   "id": "83362d09",
   "metadata": {},
   "outputs": [
    {
     "name": "stdout",
     "output_type": "stream",
     "text": [
      "Earliest date: 2024-03-01 00:00:01\n",
      "Latest date: 2024-03-10 23:59:54\n",
      "9 days, 23:59:53\n",
      "Total seconds: 863993.0\n",
      "Total days: 9.999918981481482\n",
      "Total number of posts: 131797\n",
      "Average number of posts made per day: 13179.806780841975\n"
     ]
    }
   ],
   "source": [
    "# Question 3.2.1\n",
    "\n",
    "earliest_date = min(onlyDates)\n",
    "latest_date = max(onlyDates)\n",
    "print(\"Earliest date:\", earliest_date) \n",
    "print(\"Latest date:\", latest_date)   \n",
    "\n",
    "timedelta = latest_date - earliest_date\n",
    "print(timedelta)\n",
    "total_seconds = timedelta.total_seconds()\n",
    "print(\"Total seconds:\", total_seconds)\n",
    "\n",
    "total_days = total_seconds/86400 \n",
    "print(\"Total days:\",total_days)\n",
    "totalNumberOfPosts = len(dataNew)\n",
    "print(\"Total number of posts:\", totalNumberOfPosts)\n",
    "print(\"Average number of posts made per day:\", totalNumberOfPosts/total_days)"
   ]
  },
  {
   "cell_type": "markdown",
   "id": "f793e2f4",
   "metadata": {
    "id": "ce387f51-02ca-437f-aa9f-687f06146a8a"
   },
   "source": [
    "#### Always-on\n",
    "- **Find the maximum time gap (in seconds) between two consecutively collected posts.**  \n",
    "(Hint: Use `sorted(dates)` to sort the dates, and go through the sorted dates to find the maximum gap.)\n",
    "- **Answer question 3.2.2 on A+.**"
   ]
  },
  {
   "cell_type": "code",
   "execution_count": 29,
   "id": "3d7a6a70",
   "metadata": {
    "colab": {
     "base_uri": "https://localhost:8080/"
    },
    "id": "3ff2392d-8b78-4adc-bdb7-e9ada94811c0",
    "outputId": "0696dce4-5e7c-4e04-cf4c-07d06fcd91af"
   },
   "outputs": [
    {
     "name": "stdout",
     "output_type": "stream",
     "text": [
      "Maximum seconds between any two consecutively collected posts: 86.0\n"
     ]
    }
   ],
   "source": [
    "# Your code here.\n",
    "\n",
    "sortedDates = sorted(onlyDates)\n",
    "#print(sortedDates[0:3])\n",
    "seconds_diff_list = []\n",
    "\n",
    "for i in range(len(sortedDates)-1):\n",
    "    timedelta = sortedDates[i+1] - sortedDates[i]\n",
    "    seconds_diff_list.append(timedelta.total_seconds())\n",
    "\n",
    "print(\"Maximum seconds between any two consecutively collected posts:\",max(seconds_diff_list))"
   ]
  },
  {
   "cell_type": "markdown",
   "id": "74471190",
   "metadata": {
    "jp-MarkdownHeadingCollapsed": true,
    "tags": []
   },
   "source": [
    "#### Non-reactive\n",
    "**Answer question 3.2.3 on A+.**"
   ]
  },
  {
   "cell_type": "markdown",
   "id": "8b8ea7c0",
   "metadata": {
    "jp-MarkdownHeadingCollapsed": true,
    "tags": []
   },
   "source": [
    "#### Incomplete\n",
    "**Answer question 3.2.4 on A+.**"
   ]
  },
  {
   "cell_type": "markdown",
   "id": "70d3209c",
   "metadata": {
    "id": "9e72ecdd-0e63-434f-bdd4-7e06b4ec3af8"
   },
   "source": [
    "#### Nonrepresentative\n",
    "- **Plot the age distribution of users in the data.**   \n",
    "(Hint: You can use the [`plt.hist`](https://matplotlib.org/3.5.0/api/_as_gen/matplotlib.pyplot.hist.html) function, where you have ages on the x axis, and the number of users of each age on the y axis.)\n",
    "- **Plot the number of posts posted by users of each age.**  \n",
    "(Hint: You can use the [`plt.hist`](https://matplotlib.org/3.5.0/api/_as_gen/matplotlib.pyplot.hist.html) function, where you have ages on the x axis, and the number of posts by users of each age on the y axis.)  \n",
    "(Caveat: This approach of inspecting the total number of posts posted by each age group is likely not optimal in real analysis. In real analysis, to get a sense of average user activity by age, you might want to plot the average number of posts posted by users of each age.)\n",
    "- **Answer question 3.2.5 on A+.**\n",
    "\n",
    "(Think about it: what bias will it potentially bring to the analysis of climate discussions?)"
   ]
  },
  {
   "cell_type": "code",
   "execution_count": 41,
   "id": "b70811a8",
   "metadata": {
    "colab": {
     "base_uri": "https://localhost:8080/",
     "height": 414
    },
    "id": "5bebd4c4-7680-4cab-8e4f-7a73618b4cd4",
    "outputId": "c494511b-57c8-4051-f845-553248479891"
   },
   "outputs": [
    {
     "data": {
      "text/plain": [
       "Text(0.5, 1.0, 'Number of posts by age')"
      ]
     },
     "execution_count": 41,
     "metadata": {},
     "output_type": "execute_result"
    },
    {
     "data": {
      "image/png": "[encoded data removed]",
      "text/plain": [
       "<Figure size 720x1440 with 2 Axes>"
      ]
     },
     "metadata": {
      "needs_background": "light"
     },
     "output_type": "display_data"
    }
   ],
   "source": [
    "# Your code here.\n",
    "\n",
    "onlyAge = sorted([user['age'] for user in users])\n",
    "onlyAgeUnique = list(set(sorted([user['age'] for user in users])))\n",
    "\n",
    "def findAgeOfUserByID(users, user_id):\n",
    "    for user in users:\n",
    "        if (user['id'] == user_id):\n",
    "            return user['age']\n",
    "        \n",
    "postByAge = [findAgeOfUserByID(users, dataPoint['user_id']) for dataPoint in dataNew]\n",
    "\n",
    "plt.figure(figsize=(10, 20))\n",
    "plt.subplot(2,1,1)\n",
    "plt.hist(onlyAge)\n",
    "plt.title(\"Number of users by age\")\n",
    "\n",
    "plt.subplot(2,1,2)\n",
    "plt.hist(postByAge)\n",
    "plt.title(\"Number of posts by age\")"
   ]
  },
  {
   "cell_type": "markdown",
   "id": "58bbd503",
   "metadata": {
    "id": "bbb570fb-914e-4233-b93c-458ba2faf4e0"
   },
   "source": [
    "#### Drifting\n",
    "- **Find the two most used hashtags in the data.**  \n",
    "(Hint: For this exercise, the following process will suffice for counting the hashtags: for each post text, use `text.split()` to split it into tokens; if the token starts with `#`, count it as a hashtag.)  \n",
    "(Note: For real-world data, you might need to do more text cleaning, for example you might need to remove the non-`#` punctuations before tokenization.)\n",
    "- **Plot the activity of these two hashtags over time.**  \n",
    "(Hint: You can use the [`plt.plot`](https://matplotlib.org/3.5.0/api/_as_gen/matplotlib.pyplot.plot.html) function to plot a curve for each hashtag, where you have days on the x axis, and the number of posts with this hashtag posted on each day on the y axis. Use `obj.strftime('%Y-%m-%d')` to get the day of a `datetime` object.)\n",
    "- **Answer question 3.2.6 on A+.**"
   ]
  },
  {
   "cell_type": "code",
   "execution_count": 63,
   "id": "7632e0d0",
   "metadata": {
    "colab": {
     "base_uri": "https://localhost:8080/",
     "height": 520
    },
    "id": "48c47f81-ad88-46b4-9853-1236cb189fda",
    "outputId": "a6068d2b-a386-4021-937d-063a031da0da"
   },
   "outputs": [
    {
     "name": "stdout",
     "output_type": "stream",
     "text": [
      "[('#climatechange', 20873), ('#ipcc', 15486)]\n"
     ]
    },
    {
     "data": {
      "text/plain": [
       "<matplotlib.legend.Legend at 0x7f7ae130df40>"
      ]
     },
     "execution_count": 63,
     "metadata": {},
     "output_type": "execute_result"
    },
    {
     "data": {
      "image/png": "[encoded data removed]",
      "text/plain": [
       "<Figure size 432x288 with 1 Axes>"
      ]
     },
     "metadata": {
      "needs_background": "light"
     },
     "output_type": "display_data"
    }
   ],
   "source": [
    "import collections\n",
    "# Your code here.\n",
    "def flatten(lst):\n",
    "    flattened_list = []\n",
    "    for element in lst:\n",
    "        if isinstance(element, list):\n",
    "            flattened_list.extend(flatten(element))\n",
    "        else:\n",
    "            flattened_list.append(element)\n",
    "    return flattened_list\n",
    "\n",
    "allHashTags = flatten([[token for token in dataPoint['text'].split() if token.startswith('#')] for dataPoint in dataNew])\n",
    "#print(allHashTags[0:10])\n",
    "print(collections.Counter(allHashTags).most_common()[0:2])\n",
    "\n",
    "firstHashDayCount = {}\n",
    "secondHashDayCount = {}\n",
    "\n",
    "firstHashTag = '#climatechange'\n",
    "secondHashTag = '#ipcc'\n",
    "\n",
    "for date in sortedDates:\n",
    "    firstHashDayCount[date.strftime('%Y-%m-%d')] = 0\n",
    "    secondHashDayCount[date.strftime('%Y-%m-%d')] = 0\n",
    "\n",
    "for dataPoint in dataNew:\n",
    "    if '#climatechange' in dataPoint['text'].split():\n",
    "        firstHashDayCount[dataPoint['date'].strftime('%Y-%m-%d')] += 1\n",
    "    if '#ipcc' in dataPoint['text'].split():\n",
    "        secondHashDayCount[dataPoint['date'].strftime('%Y-%m-%d')] += 1\n",
    "\n",
    "days = list(firstHashDayCount.keys())\n",
    "firstHashCount = list(firstHashDayCount.values())\n",
    "secondHashCount = list(secondHashDayCount.values())\n",
    "\n",
    "plt.plot(days, firstHashCount, label=\"#climatechange\")\n",
    "plt.plot(days, secondHashCount, label=\"#ipcc\")\n",
    "plt.legend()"
   ]
  },
  {
   "cell_type": "markdown",
   "id": "59a4518e",
   "metadata": {
    "jp-MarkdownHeadingCollapsed": true,
    "tags": []
   },
   "source": [
    "#### Algorithmically confounded\n",
    "**Answer question 3.2.7 on A+.**"
   ]
  },
  {
   "cell_type": "markdown",
   "id": "cd833040",
   "metadata": {
    "id": "5f41248b-1506-4108-b1a7-e9a2f9842136"
   },
   "source": [
    "#### 8. Dirty\n",
    "- **Find the bots in the data.**  \n",
    "(Hint: One characteristic of bots is their regular online presence (i.e., they post at regular intervals). In this data set, you can safely assume a user is a bot if *his/her posting intervals has a standard deviation of less than 3600 seconds*. To find the bots, **calculate the number of posts posted by each user, and the standard deviation of posting intervals of each user**. Use `np.std(intervals)` to calculate the standard deviation of a list of intervals. With the given criteria, you should find 150 bots in the data.)  \n",
    "(Note: In real data analysis, you need more advanced approaches than this to detect bots, but you can find develped tools for bot detection, such as [Botometer](https://botometer.osome.iu.edu/).)\n",
    "- **Inspect the most used 5 hashtags by bots in the data.**  \n",
    "- **Answer question 3.2.8 on A+.**"
   ]
  },
  {
   "cell_type": "code",
   "execution_count": 78,
   "id": "83f6ae5b",
   "metadata": {
    "colab": {
     "base_uri": "https://localhost:8080/",
     "height": 626
    },
    "id": "2806dd07-4f60-465a-a63b-db0075b0c467",
    "outputId": "f9d13617-1701-4e37-ca5f-3c94b67a42a5"
   },
   "outputs": [
    {
     "name": "stdout",
     "output_type": "stream",
     "text": [
      "Total number of bots: 150\n",
      "The top 5 common bot hashtags are:\n",
      "[('#climatechange', 6497), ('#climatechangeisnotreal', 4821), ('#climatechangehoax', 4790), ('#climatefraud', 4777), ('#globalwarming', 4771)]\n"
     ]
    }
   ],
   "source": [
    "# Your code here.\n",
    "userPosts = {}\n",
    "\n",
    "for user in users:\n",
    "    userPosts[user['id']] = []\n",
    "\n",
    "for dataPoint in dataNew:\n",
    "    userPosts[dataPoint['user_id']].append(dataPoint['date'])\n",
    "\n",
    "bots = []\n",
    "for user in users:\n",
    "    userPosts[user['id']] = sorted(userPosts[user['id']])\n",
    "    time_intervals = []\n",
    "    for i in range(len(userPosts[user['id']]) - 1):\n",
    "        time_intervals.append((userPosts[user['id']][i+1] - userPosts[user['id']][i]).total_seconds())\n",
    "    if np.std(time_intervals) < 3600:\n",
    "        bots.append(user)\n",
    "\n",
    "print(\"Total number of bots:\", len(bots))\n",
    "\n",
    "botsID = [bot['id'] for bot in bots]\n",
    "\n",
    "hashTagBots = []\n",
    "for dataPoint in data:\n",
    "    if dataPoint['user_id'] in botsID:\n",
    "        hashTagBots.extend([token for token in dataPoint['text'].split() if token.startswith(\"#\")])\n",
    "\n",
    "print(\"The top 5 common bot hashtags are:\")\n",
    "print(collections.Counter(hashTagBots).most_common()[0:5])"
   ]
  },
  {
   "cell_type": "markdown",
   "id": "ed84c7dc",
   "metadata": {
    "id": "5eb3529b-3328-4153-b9dc-4e791f389c49"
   },
   "source": [
    "### Sensitive\n",
    "**Answer question 3.2.9 on A+.**"
   ]
  },
  {
   "cell_type": "markdown",
   "id": "485a1083",
   "metadata": {
    "id": "f426ae14-2b21-43e3-b7d2-7fa06445825e"
   },
   "source": [
    "### Big data for research\n",
    "**Answer question 3.2.10 on A+.**"
   ]
  }
 ],
 "metadata": {
  "colab": {
   "collapsed_sections": [],
   "name": "big_data.ipynb",
   "provenance": []
  },
  "kernelspec": {
   "display_name": "Python 3",
   "language": "python",
   "name": "python3"
  },
  "language_info": {
   "codemirror_mode": {
    "name": "ipython",
    "version": 3
   },
   "file_extension": ".py",
   "mimetype": "text/x-python",
   "name": "python",
   "nbconvert_exporter": "python",
   "pygments_lexer": "ipython3",
   "version": "3.9.5"
  }
 },
 "nbformat": 4,
 "nbformat_minor": 5
}
